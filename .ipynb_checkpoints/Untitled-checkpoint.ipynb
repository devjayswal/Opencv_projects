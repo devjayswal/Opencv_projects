{
 "cells": [
  {
   "cell_type": "code",
   "execution_count": null,
   "id": "9ac49716-db63-47cf-aa31-a9c1c90dc15c",
   "metadata": {},
   "outputs": [],
   "source": [
    "\"\"\" This Project have funtionality related to load a video from a path or record \n",
    " a video and  save it on working directrey \"\"\"\n",
    " \n",
    "import cv2 \n",
    "\n",
    "print( \"Welcome to video_player\") \n",
    "print(\"Please select a options\")\n",
    "\n",
    "key = int(input(\" 1. Record Vidoe \\n 2. Play video \\n 3. exit \\n\"))\n",
    " \n",
    "if key == 1:\n",
    "    cap = cv2.VideoCapture(0,cv2.CAP_DSHOW)\n",
    "    \n",
    "    fourcc = cv2.VideoWriter_fourcc(*'XVID')\n",
    "    out = cv2.VideoWriter('output.avi', fourcc, 20.0, (640, 480))\n",
    "\n",
    "    while cap.isOpened():\n",
    "        ret, frame = cap.read()\n",
    "        if ret:\n",
    "            out.write(frame)\n",
    "            cv2.imshow(\"frame\",frame)\n",
    "            if cv2.waitKey(1) & 0xFF == ord('q'):\n",
    "                break\n",
    "    cap.release()\n",
    "    out.release()\n",
    "    cv2.destroyAllWindows()\n",
    "\n",
    "if key == 2:\n",
    "    path = input(\"enter path of the video file:- \")\n",
    "    vid = cv2.VideoCapture(path,cv2.CAP_DSHOW)\n",
    "    print(\"video matrix\", vid)\n",
    "    \n",
    "    while True:\n",
    "        ret , frame = vid.read()\n",
    "        if ret == True:\n",
    "            frame = cv2.resize(frame, (640,480))\n",
    "            cv2.imshow(\"frame\",frame)\n",
    "            k = cv2.waitKey(100)\n",
    "            if k == ord('q') & 0xff:\n",
    "                break\n",
    "    vid.release()\n",
    "    cv2.destroyAllWindows()\n",
    "    \n",
    "\n"
   ]
  }
 ],
 "metadata": {
  "kernelspec": {
   "display_name": "Python 3 (ipykernel)",
   "language": "python",
   "name": "python3"
  },
  "language_info": {
   "codemirror_mode": {
    "name": "ipython",
    "version": 3
   },
   "file_extension": ".py",
   "mimetype": "text/x-python",
   "name": "python",
   "nbconvert_exporter": "python",
   "pygments_lexer": "ipython3",
   "version": "3.11.5"
  }
 },
 "nbformat": 4,
 "nbformat_minor": 5
}
