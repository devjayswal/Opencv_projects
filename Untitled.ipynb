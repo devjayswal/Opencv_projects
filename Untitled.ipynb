{
 "cells": [
  {
   "cell_type": "code",
   "execution_count": 2,
   "id": "9ac49716-db63-47cf-aa31-a9c1c90dc15c",
   "metadata": {},
   "outputs": [
    {
     "data": {
      "text/plain": [
       "' This Project have funtionality related to load a video from a path or record \\n a video and  save it on working directrey '"
      ]
     },
     "execution_count": 2,
     "metadata": {},
     "output_type": "execute_result"
    }
   ],
   "source": [
    "\"\"\" This Project have funtionality related to load a video from a path or record \n",
    " a video and  save it on working directrey \"\"\""
   ]
  },
  {
   "cell_type": "code",
   "execution_count": 9,
   "id": "de99647b-0887-49ad-975e-8575e904a539",
   "metadata": {},
   "outputs": [
    {
     "ename": "IndentationError",
     "evalue": "unexpected indent (3652479878.py, line 9)",
     "output_type": "error",
     "traceback": [
      "\u001b[0;36m  Cell \u001b[0;32mIn[9], line 9\u001b[0;36m\u001b[0m\n\u001b[0;31m    cap = cv2.VideoCapture(0,cv2.CAP_DSHOW)\u001b[0m\n\u001b[0m    ^\u001b[0m\n\u001b[0;31mIndentationError\u001b[0m\u001b[0;31m:\u001b[0m unexpected indent\n"
     ]
    }
   ],
   "source": [
    " \n",
    "import cv2 \n",
    "\n",
    "print( \"Welcome to video_player\") \n",
    "print(\"Please select a options\")\n",
    "cap = cv2.VideoCapture(0,cv2.CAP_DSHOW)\n",
    "\n",
    "fourcc = cv2.VideoWriter_fourcc(*'XVID')\n",
    "out = cv2.VideoWriter('output.avi', fourcc, 20.0, (640, 480))\n",
    "\n",
    "while cap.isOpened():\n",
    "    ret, frame = cap.read()\n",
    "    if ret:\n",
    "        out.write(frame)\n",
    "        cv2.imshow(\"frame\",frame)\n",
    "        if cv2.waitKey() & 0xFF == ord('q'):\n",
    "            break\n",
    "cap.release()\n",
    "out.release()\n",
    "    cv2.destroyAllWindows()\n"
   ]
  },
  {
   "cell_type": "code",
   "execution_count": null,
   "id": "2d630c1c-4914-457e-8e60-50df17eb6846",
   "metadata": {},
   "outputs": [],
   "source": []
  }
 ],
 "metadata": {
  "kernelspec": {
   "display_name": "Python 3 (ipykernel)",
   "language": "python",
   "name": "python3"
  },
  "language_info": {
   "codemirror_mode": {
    "name": "ipython",
    "version": 3
   },
   "file_extension": ".py",
   "mimetype": "text/x-python",
   "name": "python",
   "nbconvert_exporter": "python",
   "pygments_lexer": "ipython3",
   "version": "3.11.5"
  }
 },
 "nbformat": 4,
 "nbformat_minor": 5
}
